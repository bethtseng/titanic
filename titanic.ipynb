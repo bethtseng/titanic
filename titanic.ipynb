{
 "cells": [
  {
   "cell_type": "markdown",
   "metadata": {},
   "source": [
    "# Titanic"
   ]
  },
  {
   "cell_type": "code",
   "execution_count": 159,
   "metadata": {
    "collapsed": true
   },
   "outputs": [],
   "source": [
    "from pandas import DataFrame, Series, crosstab\n",
    "import numpy as np\n",
    "from collections import Counter\n",
    "import math\n",
    "import pandas as pd\n",
    "from datetime import datetime, timedelta \n",
    "\n",
    "import matplotlib\n",
    "%matplotlib inline\n",
    "import matplotlib.pyplot as plt\n",
    "matplotlib.style.use('ggplot')\n",
    "import seaborn as sns\n",
    "\n",
    "import warnings\n",
    "warnings.filterwarnings('ignore')\n",
    "\n",
    "from sklearn.ensemble import RandomForestClassifier\n",
    "from sklearn.datasets import make_classification\n",
    "from sklearn.model_selection import KFold"
   ]
  },
  {
   "cell_type": "markdown",
   "metadata": {},
   "source": [
    "<br>\n",
    "<br>\n",
    "### Loding training data and testing data"
   ]
  },
  {
   "cell_type": "code",
   "execution_count": 68,
   "metadata": {},
   "outputs": [
    {
     "data": {
      "text/html": [
       "<div>\n",
       "<style>\n",
       "    .dataframe thead tr:only-child th {\n",
       "        text-align: right;\n",
       "    }\n",
       "\n",
       "    .dataframe thead th {\n",
       "        text-align: left;\n",
       "    }\n",
       "\n",
       "    .dataframe tbody tr th {\n",
       "        vertical-align: top;\n",
       "    }\n",
       "</style>\n",
       "<table border=\"1\" class=\"dataframe\">\n",
       "  <thead>\n",
       "    <tr style=\"text-align: right;\">\n",
       "      <th></th>\n",
       "      <th>Survived</th>\n",
       "      <th>Pclass</th>\n",
       "      <th>Name</th>\n",
       "      <th>Sex</th>\n",
       "      <th>Age</th>\n",
       "      <th>SibSp</th>\n",
       "      <th>Parch</th>\n",
       "      <th>Ticket</th>\n",
       "      <th>Fare</th>\n",
       "      <th>Cabin</th>\n",
       "      <th>Embarked</th>\n",
       "    </tr>\n",
       "    <tr>\n",
       "      <th>PassengerId</th>\n",
       "      <th></th>\n",
       "      <th></th>\n",
       "      <th></th>\n",
       "      <th></th>\n",
       "      <th></th>\n",
       "      <th></th>\n",
       "      <th></th>\n",
       "      <th></th>\n",
       "      <th></th>\n",
       "      <th></th>\n",
       "      <th></th>\n",
       "    </tr>\n",
       "  </thead>\n",
       "  <tbody>\n",
       "    <tr>\n",
       "      <th>1</th>\n",
       "      <td>0</td>\n",
       "      <td>3</td>\n",
       "      <td>Braund, Mr. Owen Harris</td>\n",
       "      <td>male</td>\n",
       "      <td>22.0</td>\n",
       "      <td>1</td>\n",
       "      <td>0</td>\n",
       "      <td>A/5 21171</td>\n",
       "      <td>7.2500</td>\n",
       "      <td>NaN</td>\n",
       "      <td>S</td>\n",
       "    </tr>\n",
       "    <tr>\n",
       "      <th>2</th>\n",
       "      <td>1</td>\n",
       "      <td>1</td>\n",
       "      <td>Cumings, Mrs. John Bradley (Florence Briggs Th...</td>\n",
       "      <td>female</td>\n",
       "      <td>38.0</td>\n",
       "      <td>1</td>\n",
       "      <td>0</td>\n",
       "      <td>PC 17599</td>\n",
       "      <td>71.2833</td>\n",
       "      <td>C85</td>\n",
       "      <td>C</td>\n",
       "    </tr>\n",
       "    <tr>\n",
       "      <th>3</th>\n",
       "      <td>1</td>\n",
       "      <td>3</td>\n",
       "      <td>Heikkinen, Miss. Laina</td>\n",
       "      <td>female</td>\n",
       "      <td>26.0</td>\n",
       "      <td>0</td>\n",
       "      <td>0</td>\n",
       "      <td>STON/O2. 3101282</td>\n",
       "      <td>7.9250</td>\n",
       "      <td>NaN</td>\n",
       "      <td>S</td>\n",
       "    </tr>\n",
       "    <tr>\n",
       "      <th>4</th>\n",
       "      <td>1</td>\n",
       "      <td>1</td>\n",
       "      <td>Futrelle, Mrs. Jacques Heath (Lily May Peel)</td>\n",
       "      <td>female</td>\n",
       "      <td>35.0</td>\n",
       "      <td>1</td>\n",
       "      <td>0</td>\n",
       "      <td>113803</td>\n",
       "      <td>53.1000</td>\n",
       "      <td>C123</td>\n",
       "      <td>S</td>\n",
       "    </tr>\n",
       "    <tr>\n",
       "      <th>5</th>\n",
       "      <td>0</td>\n",
       "      <td>3</td>\n",
       "      <td>Allen, Mr. William Henry</td>\n",
       "      <td>male</td>\n",
       "      <td>35.0</td>\n",
       "      <td>0</td>\n",
       "      <td>0</td>\n",
       "      <td>373450</td>\n",
       "      <td>8.0500</td>\n",
       "      <td>NaN</td>\n",
       "      <td>S</td>\n",
       "    </tr>\n",
       "  </tbody>\n",
       "</table>\n",
       "</div>"
      ],
      "text/plain": [
       "             Survived  Pclass  \\\n",
       "PassengerId                     \n",
       "1                   0       3   \n",
       "2                   1       1   \n",
       "3                   1       3   \n",
       "4                   1       1   \n",
       "5                   0       3   \n",
       "\n",
       "                                                          Name     Sex   Age  \\\n",
       "PassengerId                                                                    \n",
       "1                                      Braund, Mr. Owen Harris    male  22.0   \n",
       "2            Cumings, Mrs. John Bradley (Florence Briggs Th...  female  38.0   \n",
       "3                                       Heikkinen, Miss. Laina  female  26.0   \n",
       "4                 Futrelle, Mrs. Jacques Heath (Lily May Peel)  female  35.0   \n",
       "5                                     Allen, Mr. William Henry    male  35.0   \n",
       "\n",
       "             SibSp  Parch            Ticket     Fare Cabin Embarked  \n",
       "PassengerId                                                          \n",
       "1                1      0         A/5 21171   7.2500   NaN        S  \n",
       "2                1      0          PC 17599  71.2833   C85        C  \n",
       "3                0      0  STON/O2. 3101282   7.9250   NaN        S  \n",
       "4                1      0            113803  53.1000  C123        S  \n",
       "5                0      0            373450   8.0500   NaN        S  "
      ]
     },
     "execution_count": 68,
     "metadata": {},
     "output_type": "execute_result"
    }
   ],
   "source": [
    "df = DataFrame.from_csv(\"res/train.csv\")\n",
    "test = DataFrame.from_csv(\"res/test.csv\")\n",
    "df.head()"
   ]
  },
  {
   "cell_type": "markdown",
   "metadata": {},
   "source": [
    "<br>\n",
    "### Type of feature\n",
    "* Categorical Features: Sex, Embarked\n",
    "* Ordinal Features: PClass(1/2/3等艙位)\n",
    "* Continous Feature: Age\n",
    "\n",
    "\n",
    "p.s.\n",
    "* SibSp => 堂兄弟/妹個數\n",
    "* Parch => 父母與小孩個數\n",
    "* Ticket => 船票信息\n",
    "* Fare => 票價\n",
    "* Cabin => 客艙\n",
    "* Embarked => 登船港口"
   ]
  },
  {
   "cell_type": "code",
   "execution_count": 69,
   "metadata": {},
   "outputs": [
    {
     "data": {
      "text/html": [
       "<div>\n",
       "<style>\n",
       "    .dataframe thead tr:only-child th {\n",
       "        text-align: right;\n",
       "    }\n",
       "\n",
       "    .dataframe thead th {\n",
       "        text-align: left;\n",
       "    }\n",
       "\n",
       "    .dataframe tbody tr th {\n",
       "        vertical-align: top;\n",
       "    }\n",
       "</style>\n",
       "<table border=\"1\" class=\"dataframe\">\n",
       "  <thead>\n",
       "    <tr style=\"text-align: right;\">\n",
       "      <th></th>\n",
       "      <th>Survived</th>\n",
       "      <th>Pclass</th>\n",
       "      <th>Age</th>\n",
       "      <th>SibSp</th>\n",
       "      <th>Parch</th>\n",
       "      <th>Fare</th>\n",
       "    </tr>\n",
       "  </thead>\n",
       "  <tbody>\n",
       "    <tr>\n",
       "      <th>count</th>\n",
       "      <td>891.000000</td>\n",
       "      <td>891.000000</td>\n",
       "      <td>714.000000</td>\n",
       "      <td>891.000000</td>\n",
       "      <td>891.000000</td>\n",
       "      <td>891.000000</td>\n",
       "    </tr>\n",
       "    <tr>\n",
       "      <th>mean</th>\n",
       "      <td>0.383838</td>\n",
       "      <td>2.308642</td>\n",
       "      <td>29.699118</td>\n",
       "      <td>0.523008</td>\n",
       "      <td>0.381594</td>\n",
       "      <td>32.204208</td>\n",
       "    </tr>\n",
       "    <tr>\n",
       "      <th>std</th>\n",
       "      <td>0.486592</td>\n",
       "      <td>0.836071</td>\n",
       "      <td>14.526497</td>\n",
       "      <td>1.102743</td>\n",
       "      <td>0.806057</td>\n",
       "      <td>49.693429</td>\n",
       "    </tr>\n",
       "    <tr>\n",
       "      <th>min</th>\n",
       "      <td>0.000000</td>\n",
       "      <td>1.000000</td>\n",
       "      <td>0.420000</td>\n",
       "      <td>0.000000</td>\n",
       "      <td>0.000000</td>\n",
       "      <td>0.000000</td>\n",
       "    </tr>\n",
       "    <tr>\n",
       "      <th>25%</th>\n",
       "      <td>0.000000</td>\n",
       "      <td>2.000000</td>\n",
       "      <td>20.125000</td>\n",
       "      <td>0.000000</td>\n",
       "      <td>0.000000</td>\n",
       "      <td>7.910400</td>\n",
       "    </tr>\n",
       "    <tr>\n",
       "      <th>50%</th>\n",
       "      <td>0.000000</td>\n",
       "      <td>3.000000</td>\n",
       "      <td>28.000000</td>\n",
       "      <td>0.000000</td>\n",
       "      <td>0.000000</td>\n",
       "      <td>14.454200</td>\n",
       "    </tr>\n",
       "    <tr>\n",
       "      <th>75%</th>\n",
       "      <td>1.000000</td>\n",
       "      <td>3.000000</td>\n",
       "      <td>38.000000</td>\n",
       "      <td>1.000000</td>\n",
       "      <td>0.000000</td>\n",
       "      <td>31.000000</td>\n",
       "    </tr>\n",
       "    <tr>\n",
       "      <th>max</th>\n",
       "      <td>1.000000</td>\n",
       "      <td>3.000000</td>\n",
       "      <td>80.000000</td>\n",
       "      <td>8.000000</td>\n",
       "      <td>6.000000</td>\n",
       "      <td>512.329200</td>\n",
       "    </tr>\n",
       "  </tbody>\n",
       "</table>\n",
       "</div>"
      ],
      "text/plain": [
       "         Survived      Pclass         Age       SibSp       Parch        Fare\n",
       "count  891.000000  891.000000  714.000000  891.000000  891.000000  891.000000\n",
       "mean     0.383838    2.308642   29.699118    0.523008    0.381594   32.204208\n",
       "std      0.486592    0.836071   14.526497    1.102743    0.806057   49.693429\n",
       "min      0.000000    1.000000    0.420000    0.000000    0.000000    0.000000\n",
       "25%      0.000000    2.000000   20.125000    0.000000    0.000000    7.910400\n",
       "50%      0.000000    3.000000   28.000000    0.000000    0.000000   14.454200\n",
       "75%      1.000000    3.000000   38.000000    1.000000    0.000000   31.000000\n",
       "max      1.000000    3.000000   80.000000    8.000000    6.000000  512.329200"
      ]
     },
     "execution_count": 69,
     "metadata": {},
     "output_type": "execute_result"
    }
   ],
   "source": [
    "df.describe()"
   ]
  },
  {
   "cell_type": "code",
   "execution_count": 70,
   "metadata": {},
   "outputs": [
    {
     "data": {
      "text/plain": [
       "Survived      0\n",
       "Pclass        0\n",
       "Name          0\n",
       "Sex           0\n",
       "Age         177\n",
       "SibSp         0\n",
       "Parch         0\n",
       "Ticket        0\n",
       "Fare          0\n",
       "Cabin       687\n",
       "Embarked      2\n",
       "dtype: int64"
      ]
     },
     "execution_count": 70,
     "metadata": {},
     "output_type": "execute_result"
    }
   ],
   "source": [
    "#checking for total null values\n",
    "df.isnull().sum()"
   ]
  },
  {
   "cell_type": "code",
   "execution_count": 71,
   "metadata": {},
   "outputs": [
    {
     "data": {
      "text/plain": [
       "dict_values([549, 342])"
      ]
     },
     "execution_count": 71,
     "metadata": {},
     "output_type": "execute_result"
    }
   ],
   "source": [
    "survived = dict(Counter(df['Survived']))\n",
    "survived.values()"
   ]
  },
  {
   "cell_type": "code",
   "execution_count": 72,
   "metadata": {},
   "outputs": [
    {
     "data": {
      "image/png": "[encoded data removed]",
      "text/plain": [
       "<matplotlib.figure.Figure at 0x110655048>"
      ]
     },
     "metadata": {},
     "output_type": "display_data"
    }
   ],
   "source": [
    "f,ax=plt.subplots(1,2,figsize=(18,8))\n",
    "df['Survived'].value_counts().plot.pie(explode=[0,0.1],autopct='%1.1f%%',ax=ax[0],shadow=True)\n",
    "ax[0].set_title('Survived')\n",
    "ax[0].set_ylabel('')\n",
    "sns.countplot('Survived',data=df,ax=ax[1])\n",
    "ax[1].set_title('Survived')\n",
    "plt.show()"
   ]
  },
  {
   "cell_type": "markdown",
   "metadata": {},
   "source": [
    "<br>\n",
    "## Feature exploration"
   ]
  },
  {
   "cell_type": "markdown",
   "metadata": {},
   "source": [
    "<br>\n",
    "<b> Sex"
   ]
  },
  {
   "cell_type": "code",
   "execution_count": 73,
   "metadata": {},
   "outputs": [
    {
     "data": {
      "text/plain": [
       "<matplotlib.axes._subplots.AxesSubplot at 0x1102bea90>"
      ]
     },
     "execution_count": 73,
     "metadata": {},
     "output_type": "execute_result"
    },
    {
     "data": {
      "image/png": "[encoded data removed]",
      "text/plain": [
       "<matplotlib.figure.Figure at 0x1105754a8>"
      ]
     },
     "metadata": {},
     "output_type": "display_data"
    }
   ],
   "source": [
    "df_sex = crosstab(df['Sex'], df['Survived'])\n",
    "df_sex.plot(kind='bar', figsize=(10,6))\n",
    "# 印出關聯性大小 (correlation or sth.)"
   ]
  },
  {
   "cell_type": "markdown",
   "metadata": {},
   "source": [
    "<br>\n",
    "<b> Pclass"
   ]
  },
  {
   "cell_type": "code",
   "execution_count": 74,
   "metadata": {},
   "outputs": [
    {
     "data": {
      "text/plain": [
       "<matplotlib.axes._subplots.AxesSubplot at 0x11023b278>"
      ]
     },
     "execution_count": 74,
     "metadata": {},
     "output_type": "execute_result"
    },
    {
     "data": {
      "image/png": "[encoded data removed]",
      "text/plain": [
       "<matplotlib.figure.Figure at 0x10c3fb5c0>"
      ]
     },
     "metadata": {},
     "output_type": "display_data"
    }
   ],
   "source": [
    "df_pclass = crosstab(df['Pclass'], df['Survived'])\n",
    "df_pclass.plot(kind='bar', figsize=(10,6))"
   ]
  },
  {
   "cell_type": "code",
   "execution_count": 75,
   "metadata": {},
   "outputs": [
    {
     "data": {
      "text/html": [
       "<style  type=\"text/css\" >\n",
       "    #T_6e0a1d46_bab7_11e7_ab70_8c2937e74684row0_col0 {\n",
       "            background-color:  #ffff66;\n",
       "        }    #T_6e0a1d46_bab7_11e7_ab70_8c2937e74684row0_col1 {\n",
       "            background-color:  #cee666;\n",
       "        }    #T_6e0a1d46_bab7_11e7_ab70_8c2937e74684row0_col2 {\n",
       "            background-color:  #f4fa66;\n",
       "        }    #T_6e0a1d46_bab7_11e7_ab70_8c2937e74684row1_col0 {\n",
       "            background-color:  #f6fa66;\n",
       "        }    #T_6e0a1d46_bab7_11e7_ab70_8c2937e74684row1_col1 {\n",
       "            background-color:  #ffff66;\n",
       "        }    #T_6e0a1d46_bab7_11e7_ab70_8c2937e74684row1_col2 {\n",
       "            background-color:  #ffff66;\n",
       "        }    #T_6e0a1d46_bab7_11e7_ab70_8c2937e74684row2_col0 {\n",
       "            background-color:  #60b066;\n",
       "        }    #T_6e0a1d46_bab7_11e7_ab70_8c2937e74684row2_col1 {\n",
       "            background-color:  #dfef66;\n",
       "        }    #T_6e0a1d46_bab7_11e7_ab70_8c2937e74684row2_col2 {\n",
       "            background-color:  #90c866;\n",
       "        }    #T_6e0a1d46_bab7_11e7_ab70_8c2937e74684row3_col0 {\n",
       "            background-color:  #008066;\n",
       "        }    #T_6e0a1d46_bab7_11e7_ab70_8c2937e74684row3_col1 {\n",
       "            background-color:  #008066;\n",
       "        }    #T_6e0a1d46_bab7_11e7_ab70_8c2937e74684row3_col2 {\n",
       "            background-color:  #008066;\n",
       "        }</style>  \n",
       "<table id=\"T_6e0a1d46_bab7_11e7_ab70_8c2937e74684\" > \n",
       "<thead>    <tr> \n",
       "        <th class=\"index_name level0\" >Survived</th> \n",
       "        <th class=\"col_heading level0 col0\" >0</th> \n",
       "        <th class=\"col_heading level0 col1\" >1</th> \n",
       "        <th class=\"col_heading level0 col2\" >All</th> \n",
       "    </tr>    <tr> \n",
       "        <th class=\"index_name level0\" >Pclass</th> \n",
       "        <th class=\"blank\" ></th> \n",
       "        <th class=\"blank\" ></th> \n",
       "        <th class=\"blank\" ></th> \n",
       "    </tr></thead> \n",
       "<tbody>    <tr> \n",
       "        <th id=\"T_6e0a1d46_bab7_11e7_ab70_8c2937e74684level0_row0\" class=\"row_heading level0 row0\" >1</th> \n",
       "        <td id=\"T_6e0a1d46_bab7_11e7_ab70_8c2937e74684row0_col0\" class=\"data row0 col0\" >80</td> \n",
       "        <td id=\"T_6e0a1d46_bab7_11e7_ab70_8c2937e74684row0_col1\" class=\"data row0 col1\" >136</td> \n",
       "        <td id=\"T_6e0a1d46_bab7_11e7_ab70_8c2937e74684row0_col2\" class=\"data row0 col2\" >216</td> \n",
       "    </tr>    <tr> \n",
       "        <th id=\"T_6e0a1d46_bab7_11e7_ab70_8c2937e74684level0_row1\" class=\"row_heading level0 row1\" >2</th> \n",
       "        <td id=\"T_6e0a1d46_bab7_11e7_ab70_8c2937e74684row1_col0\" class=\"data row1 col0\" >97</td> \n",
       "        <td id=\"T_6e0a1d46_bab7_11e7_ab70_8c2937e74684row1_col1\" class=\"data row1 col1\" >87</td> \n",
       "        <td id=\"T_6e0a1d46_bab7_11e7_ab70_8c2937e74684row1_col2\" class=\"data row1 col2\" >184</td> \n",
       "    </tr>    <tr> \n",
       "        <th id=\"T_6e0a1d46_bab7_11e7_ab70_8c2937e74684level0_row2\" class=\"row_heading level0 row2\" >3</th> \n",
       "        <td id=\"T_6e0a1d46_bab7_11e7_ab70_8c2937e74684row2_col0\" class=\"data row2 col0\" >372</td> \n",
       "        <td id=\"T_6e0a1d46_bab7_11e7_ab70_8c2937e74684row2_col1\" class=\"data row2 col1\" >119</td> \n",
       "        <td id=\"T_6e0a1d46_bab7_11e7_ab70_8c2937e74684row2_col2\" class=\"data row2 col2\" >491</td> \n",
       "    </tr>    <tr> \n",
       "        <th id=\"T_6e0a1d46_bab7_11e7_ab70_8c2937e74684level0_row3\" class=\"row_heading level0 row3\" >All</th> \n",
       "        <td id=\"T_6e0a1d46_bab7_11e7_ab70_8c2937e74684row3_col0\" class=\"data row3 col0\" >549</td> \n",
       "        <td id=\"T_6e0a1d46_bab7_11e7_ab70_8c2937e74684row3_col1\" class=\"data row3 col1\" >342</td> \n",
       "        <td id=\"T_6e0a1d46_bab7_11e7_ab70_8c2937e74684row3_col2\" class=\"data row3 col2\" >891</td> \n",
       "    </tr></tbody> \n",
       "</table> "
      ],
      "text/plain": [
       "<pandas.io.formats.style.Styler at 0x1104bef60>"
      ]
     },
     "execution_count": 75,
     "metadata": {},
     "output_type": "execute_result"
    }
   ],
   "source": [
    "pd.crosstab(df.Pclass,df.Survived,margins=True).style.background_gradient(cmap='summer_r')"
   ]
  },
  {
   "cell_type": "code",
   "execution_count": 76,
   "metadata": {},
   "outputs": [
    {
     "data": {
      "image/png": "[encoded data removed]",
      "text/plain": [
       "<matplotlib.figure.Figure at 0x10c6100b8>"
      ]
     },
     "metadata": {},
     "output_type": "display_data"
    }
   ],
   "source": [
    "sns.factorplot('Pclass','Survived',hue='Sex',data=df)\n",
    "plt.show()"
   ]
  },
  {
   "cell_type": "markdown",
   "metadata": {},
   "source": [
    "<br>\n",
    "<b> SibSp"
   ]
  },
  {
   "cell_type": "code",
   "execution_count": 77,
   "metadata": {},
   "outputs": [
    {
     "data": {
      "text/plain": [
       "<matplotlib.axes._subplots.AxesSubplot at 0x1102d2550>"
      ]
     },
     "execution_count": 77,
     "metadata": {},
     "output_type": "execute_result"
    },
    {
     "data": {
      "image/png": "[encoded data removed]",
      "text/plain": [
       "<matplotlib.figure.Figure at 0x11038e518>"
      ]
     },
     "metadata": {},
     "output_type": "display_data"
    }
   ],
   "source": [
    "df_sibsp = crosstab(df['SibSp'], df['Survived'])\n",
    "df_sibsp.plot(kind='bar', figsize=(10,6))"
   ]
  },
  {
   "cell_type": "markdown",
   "metadata": {},
   "source": [
    "<br>\n",
    "<b>Age"
   ]
  },
  {
   "cell_type": "code",
   "execution_count": 129,
   "metadata": {},
   "outputs": [
    {
     "data": {
      "text/html": [
       "<style  type=\"text/css\" >\n",
       "    #T_7387b6ba_bac2_11e7_ba48_8c2937e74684row0_col0 {\n",
       "            background-color:  #ffff66;\n",
       "        }    #T_7387b6ba_bac2_11e7_ba48_8c2937e74684row0_col1 {\n",
       "            background-color:  #ffff66;\n",
       "        }    #T_7387b6ba_bac2_11e7_ba48_8c2937e74684row0_col2 {\n",
       "            background-color:  #ffff66;\n",
       "        }    #T_7387b6ba_bac2_11e7_ba48_8c2937e74684row0_col3 {\n",
       "            background-color:  #ffff66;\n",
       "        }    #T_7387b6ba_bac2_11e7_ba48_8c2937e74684row0_col4 {\n",
       "            background-color:  #ffff66;\n",
       "        }    #T_7387b6ba_bac2_11e7_ba48_8c2937e74684row0_col5 {\n",
       "            background-color:  #008066;\n",
       "        }    #T_7387b6ba_bac2_11e7_ba48_8c2937e74684row0_col6 {\n",
       "            background-color:  #ffff66;\n",
       "        }    #T_7387b6ba_bac2_11e7_ba48_8c2937e74684row0_col7 {\n",
       "            background-color:  #ffff66;\n",
       "        }    #T_7387b6ba_bac2_11e7_ba48_8c2937e74684row0_col8 {\n",
       "            background-color:  #008066;\n",
       "        }    #T_7387b6ba_bac2_11e7_ba48_8c2937e74684row0_col9 {\n",
       "            background-color:  #008066;\n",
       "        }    #T_7387b6ba_bac2_11e7_ba48_8c2937e74684row0_col10 {\n",
       "            background-color:  #008066;\n",
       "        }    #T_7387b6ba_bac2_11e7_ba48_8c2937e74684row0_col11 {\n",
       "            background-color:  #ffff66;\n",
       "        }    #T_7387b6ba_bac2_11e7_ba48_8c2937e74684row0_col12 {\n",
       "            background-color:  #008066;\n",
       "        }    #T_7387b6ba_bac2_11e7_ba48_8c2937e74684row0_col13 {\n",
       "            background-color:  #008066;\n",
       "        }    #T_7387b6ba_bac2_11e7_ba48_8c2937e74684row0_col14 {\n",
       "            background-color:  #ffff66;\n",
       "        }    #T_7387b6ba_bac2_11e7_ba48_8c2937e74684row0_col15 {\n",
       "            background-color:  #ffff66;\n",
       "        }    #T_7387b6ba_bac2_11e7_ba48_8c2937e74684row0_col16 {\n",
       "            background-color:  #008066;\n",
       "        }    #T_7387b6ba_bac2_11e7_ba48_8c2937e74684row1_col0 {\n",
       "            background-color:  #008066;\n",
       "        }    #T_7387b6ba_bac2_11e7_ba48_8c2937e74684row1_col1 {\n",
       "            background-color:  #008066;\n",
       "        }    #T_7387b6ba_bac2_11e7_ba48_8c2937e74684row1_col2 {\n",
       "            background-color:  #008066;\n",
       "        }    #T_7387b6ba_bac2_11e7_ba48_8c2937e74684row1_col3 {\n",
       "            background-color:  #008066;\n",
       "        }    #T_7387b6ba_bac2_11e7_ba48_8c2937e74684row1_col4 {\n",
       "            background-color:  #008066;\n",
       "        }    #T_7387b6ba_bac2_11e7_ba48_8c2937e74684row1_col5 {\n",
       "            background-color:  #ffff66;\n",
       "        }    #T_7387b6ba_bac2_11e7_ba48_8c2937e74684row1_col6 {\n",
       "            background-color:  #008066;\n",
       "        }    #T_7387b6ba_bac2_11e7_ba48_8c2937e74684row1_col7 {\n",
       "            background-color:  #008066;\n",
       "        }    #T_7387b6ba_bac2_11e7_ba48_8c2937e74684row1_col8 {\n",
       "            background-color:  #ffff66;\n",
       "        }    #T_7387b6ba_bac2_11e7_ba48_8c2937e74684row1_col9 {\n",
       "            background-color:  #ffff66;\n",
       "        }    #T_7387b6ba_bac2_11e7_ba48_8c2937e74684row1_col10 {\n",
       "            background-color:  #ffff66;\n",
       "        }    #T_7387b6ba_bac2_11e7_ba48_8c2937e74684row1_col11 {\n",
       "            background-color:  #008066;\n",
       "        }    #T_7387b6ba_bac2_11e7_ba48_8c2937e74684row1_col12 {\n",
       "            background-color:  #ffff66;\n",
       "        }    #T_7387b6ba_bac2_11e7_ba48_8c2937e74684row1_col13 {\n",
       "            background-color:  #ffff66;\n",
       "        }    #T_7387b6ba_bac2_11e7_ba48_8c2937e74684row1_col14 {\n",
       "            background-color:  #008066;\n",
       "        }    #T_7387b6ba_bac2_11e7_ba48_8c2937e74684row1_col15 {\n",
       "            background-color:  #008066;\n",
       "        }    #T_7387b6ba_bac2_11e7_ba48_8c2937e74684row1_col16 {\n",
       "            background-color:  #ffff66;\n",
       "        }</style>  \n",
       "<table id=\"T_7387b6ba_bac2_11e7_ba48_8c2937e74684\" > \n",
       "<thead>    <tr> \n",
       "        <th class=\"index_name level0\" >Title</th> \n",
       "        <th class=\"col_heading level0 col0\" >Capt</th> \n",
       "        <th class=\"col_heading level0 col1\" >Col</th> \n",
       "        <th class=\"col_heading level0 col2\" >Don</th> \n",
       "        <th class=\"col_heading level0 col3\" >Dr</th> \n",
       "        <th class=\"col_heading level0 col4\" >Jonkheer</th> \n",
       "        <th class=\"col_heading level0 col5\" >Lady</th> \n",
       "        <th class=\"col_heading level0 col6\" >Major</th> \n",
       "        <th class=\"col_heading level0 col7\" >Master</th> \n",
       "        <th class=\"col_heading level0 col8\" >Miss</th> \n",
       "        <th class=\"col_heading level0 col9\" >Mlle</th> \n",
       "        <th class=\"col_heading level0 col10\" >Mme</th> \n",
       "        <th class=\"col_heading level0 col11\" >Mr</th> \n",
       "        <th class=\"col_heading level0 col12\" >Mrs</th> \n",
       "        <th class=\"col_heading level0 col13\" >Ms</th> \n",
       "        <th class=\"col_heading level0 col14\" >Rev</th> \n",
       "        <th class=\"col_heading level0 col15\" >Sir</th> \n",
       "        <th class=\"col_heading level0 col16\" >the Countess</th> \n",
       "    </tr>    <tr> \n",
       "        <th class=\"index_name level0\" >Sex</th> \n",
       "        <th class=\"blank\" ></th> \n",
       "        <th class=\"blank\" ></th> \n",
       "        <th class=\"blank\" ></th> \n",
       "        <th class=\"blank\" ></th> \n",
       "        <th class=\"blank\" ></th> \n",
       "        <th class=\"blank\" ></th> \n",
       "        <th class=\"blank\" ></th> \n",
       "        <th class=\"blank\" ></th> \n",
       "        <th class=\"blank\" ></th> \n",
       "        <th class=\"blank\" ></th> \n",
       "        <th class=\"blank\" ></th> \n",
       "        <th class=\"blank\" ></th> \n",
       "        <th class=\"blank\" ></th> \n",
       "        <th class=\"blank\" ></th> \n",
       "        <th class=\"blank\" ></th> \n",
       "        <th class=\"blank\" ></th> \n",
       "        <th class=\"blank\" ></th> \n",
       "    </tr></thead> \n",
       "<tbody>    <tr> \n",
       "        <th id=\"T_7387b6ba_bac2_11e7_ba48_8c2937e74684level0_row0\" class=\"row_heading level0 row0\" >female</th> \n",
       "        <td id=\"T_7387b6ba_bac2_11e7_ba48_8c2937e74684row0_col0\" class=\"data row0 col0\" >0</td> \n",
       "        <td id=\"T_7387b6ba_bac2_11e7_ba48_8c2937e74684row0_col1\" class=\"data row0 col1\" >0</td> \n",
       "        <td id=\"T_7387b6ba_bac2_11e7_ba48_8c2937e74684row0_col2\" class=\"data row0 col2\" >0</td> \n",
       "        <td id=\"T_7387b6ba_bac2_11e7_ba48_8c2937e74684row0_col3\" class=\"data row0 col3\" >1</td> \n",
       "        <td id=\"T_7387b6ba_bac2_11e7_ba48_8c2937e74684row0_col4\" class=\"data row0 col4\" >0</td> \n",
       "        <td id=\"T_7387b6ba_bac2_11e7_ba48_8c2937e74684row0_col5\" class=\"data row0 col5\" >1</td> \n",
       "        <td id=\"T_7387b6ba_bac2_11e7_ba48_8c2937e74684row0_col6\" class=\"data row0 col6\" >0</td> \n",
       "        <td id=\"T_7387b6ba_bac2_11e7_ba48_8c2937e74684row0_col7\" class=\"data row0 col7\" >0</td> \n",
       "        <td id=\"T_7387b6ba_bac2_11e7_ba48_8c2937e74684row0_col8\" class=\"data row0 col8\" >182</td> \n",
       "        <td id=\"T_7387b6ba_bac2_11e7_ba48_8c2937e74684row0_col9\" class=\"data row0 col9\" >2</td> \n",
       "        <td id=\"T_7387b6ba_bac2_11e7_ba48_8c2937e74684row0_col10\" class=\"data row0 col10\" >1</td> \n",
       "        <td id=\"T_7387b6ba_bac2_11e7_ba48_8c2937e74684row0_col11\" class=\"data row0 col11\" >0</td> \n",
       "        <td id=\"T_7387b6ba_bac2_11e7_ba48_8c2937e74684row0_col12\" class=\"data row0 col12\" >125</td> \n",
       "        <td id=\"T_7387b6ba_bac2_11e7_ba48_8c2937e74684row0_col13\" class=\"data row0 col13\" >1</td> \n",
       "        <td id=\"T_7387b6ba_bac2_11e7_ba48_8c2937e74684row0_col14\" class=\"data row0 col14\" >0</td> \n",
       "        <td id=\"T_7387b6ba_bac2_11e7_ba48_8c2937e74684row0_col15\" class=\"data row0 col15\" >0</td> \n",
       "        <td id=\"T_7387b6ba_bac2_11e7_ba48_8c2937e74684row0_col16\" class=\"data row0 col16\" >1</td> \n",
       "    </tr>    <tr> \n",
       "        <th id=\"T_7387b6ba_bac2_11e7_ba48_8c2937e74684level0_row1\" class=\"row_heading level0 row1\" >male</th> \n",
       "        <td id=\"T_7387b6ba_bac2_11e7_ba48_8c2937e74684row1_col0\" class=\"data row1 col0\" >1</td> \n",
       "        <td id=\"T_7387b6ba_bac2_11e7_ba48_8c2937e74684row1_col1\" class=\"data row1 col1\" >2</td> \n",
       "        <td id=\"T_7387b6ba_bac2_11e7_ba48_8c2937e74684row1_col2\" class=\"data row1 col2\" >1</td> \n",
       "        <td id=\"T_7387b6ba_bac2_11e7_ba48_8c2937e74684row1_col3\" class=\"data row1 col3\" >6</td> \n",
       "        <td id=\"T_7387b6ba_bac2_11e7_ba48_8c2937e74684row1_col4\" class=\"data row1 col4\" >1</td> \n",
       "        <td id=\"T_7387b6ba_bac2_11e7_ba48_8c2937e74684row1_col5\" class=\"data row1 col5\" >0</td> \n",
       "        <td id=\"T_7387b6ba_bac2_11e7_ba48_8c2937e74684row1_col6\" class=\"data row1 col6\" >2</td> \n",
       "        <td id=\"T_7387b6ba_bac2_11e7_ba48_8c2937e74684row1_col7\" class=\"data row1 col7\" >40</td> \n",
       "        <td id=\"T_7387b6ba_bac2_11e7_ba48_8c2937e74684row1_col8\" class=\"data row1 col8\" >0</td> \n",
       "        <td id=\"T_7387b6ba_bac2_11e7_ba48_8c2937e74684row1_col9\" class=\"data row1 col9\" >0</td> \n",
       "        <td id=\"T_7387b6ba_bac2_11e7_ba48_8c2937e74684row1_col10\" class=\"data row1 col10\" >0</td> \n",
       "        <td id=\"T_7387b6ba_bac2_11e7_ba48_8c2937e74684row1_col11\" class=\"data row1 col11\" >517</td> \n",
       "        <td id=\"T_7387b6ba_bac2_11e7_ba48_8c2937e74684row1_col12\" class=\"data row1 col12\" >0</td> \n",
       "        <td id=\"T_7387b6ba_bac2_11e7_ba48_8c2937e74684row1_col13\" class=\"data row1 col13\" >0</td> \n",
       "        <td id=\"T_7387b6ba_bac2_11e7_ba48_8c2937e74684row1_col14\" class=\"data row1 col14\" >6</td> \n",
       "        <td id=\"T_7387b6ba_bac2_11e7_ba48_8c2937e74684row1_col15\" class=\"data row1 col15\" >1</td> \n",
       "        <td id=\"T_7387b6ba_bac2_11e7_ba48_8c2937e74684row1_col16\" class=\"data row1 col16\" >0</td> \n",
       "    </tr></tbody> \n",
       "</table> "
      ],
      "text/plain": [
       "<pandas.io.formats.style.Styler at 0x1117b2eb8>"
      ]
     },
     "execution_count": 129,
     "metadata": {},
     "output_type": "execute_result"
    }
   ],
   "source": [
    "get_title = lambda x: x.split(', ')[1].split('.')[0]\n",
    "df['Title'] = df['Name'].apply(get_title)\n",
    "pd.crosstab(df.Sex,df.Title,margins=False).style.background_gradient(cmap='summer_r')"
   ]
  },
  {
   "cell_type": "code",
   "execution_count": 130,
   "metadata": {},
   "outputs": [
    {
     "data": {
      "text/plain": [
       "Title\n",
       "Capt            70.000000\n",
       "Col             58.000000\n",
       "Don             40.000000\n",
       "Dr              42.000000\n",
       "Jonkheer        38.000000\n",
       "Lady            48.000000\n",
       "Major           48.500000\n",
       "Master           4.574167\n",
       "Miss            21.773973\n",
       "Mlle            24.000000\n",
       "Mme             24.000000\n",
       "Mr              32.368090\n",
       "Mrs             35.898148\n",
       "Ms              28.000000\n",
       "Rev             43.166667\n",
       "Sir             49.000000\n",
       "the Countess    33.000000\n",
       "Name: Age, dtype: float64"
      ]
     },
     "execution_count": 130,
     "metadata": {},
     "output_type": "execute_result"
    }
   ],
   "source": [
    "df.groupby('Title')['Age'].mean()   # Average Age"
   ]
  },
  {
   "cell_type": "code",
   "execution_count": 175,
   "metadata": {},
   "outputs": [
    {
     "data": {
      "text/plain": [
       "Title\n",
       "Master     4.574167\n",
       "Miss      21.860000\n",
       "Mr        32.368090\n",
       "Mr_old    46.181818\n",
       "Mrs       35.981818\n",
       "Other     45.888889\n",
       "Name: Age, dtype: float64"
      ]
     },
     "execution_count": 175,
     "metadata": {},
     "output_type": "execute_result"
    }
   ],
   "source": [
    "def transfer_title(x):\n",
    "    if x in ['Dr','Major','Capt','Sir','Don']: return 'Mr_old'\n",
    "    elif x in ['Lady','the Countess']: return 'Mrs'\n",
    "    elif x in ['Mlle','Mme','Ms']: return 'Miss'\n",
    "    elif x in ['Jonkheer','Col','Rev']: return 'Other'\n",
    "    else: return x\n",
    "\n",
    "df['Title'] = df['Title'].apply(transfer_title)\n",
    "avg_age = df.groupby('Title')['Age'].mean()   # Average Age\n",
    "avg_age"
   ]
  },
  {
   "cell_type": "code",
   "execution_count": 176,
   "metadata": {},
   "outputs": [
    {
     "ename": "IndexError",
     "evalue": "list index out of range",
     "output_type": "error",
     "traceback": [
      "\u001b[0;31m---------------------------------------------------------------------------\u001b[0m",
      "\u001b[0;31mIndexError\u001b[0m                                Traceback (most recent call last)",
      "\u001b[0;32m<ipython-input-176-b0f8b070269e>\u001b[0m in \u001b[0;36m<module>\u001b[0;34m()\u001b[0m\n\u001b[1;32m      5\u001b[0m     \u001b[0;32melse\u001b[0m\u001b[0;34m:\u001b[0m \u001b[0;32mreturn\u001b[0m \u001b[0mage\u001b[0m\u001b[0;34m\u001b[0m\u001b[0m\n\u001b[1;32m      6\u001b[0m \u001b[0;34m\u001b[0m\u001b[0m\n\u001b[0;32m----> 7\u001b[0;31m \u001b[0mdf\u001b[0m\u001b[0;34m[\u001b[0m\u001b[0;34m'Age'\u001b[0m\u001b[0;34m]\u001b[0m \u001b[0;34m=\u001b[0m \u001b[0;34m[\u001b[0m\u001b[0mfill_age\u001b[0m\u001b[0;34m(\u001b[0m\u001b[0mage\u001b[0m\u001b[0;34m,\u001b[0m \u001b[0mtitle\u001b[0m\u001b[0;34m)\u001b[0m \u001b[0;32mfor\u001b[0m \u001b[0mage\u001b[0m\u001b[0;34m,\u001b[0m \u001b[0mtitle\u001b[0m \u001b[0;32min\u001b[0m \u001b[0mzip\u001b[0m\u001b[0;34m(\u001b[0m\u001b[0mdf\u001b[0m\u001b[0;34m[\u001b[0m\u001b[0;34m'Age'\u001b[0m\u001b[0;34m]\u001b[0m\u001b[0;34m,\u001b[0m \u001b[0mdf\u001b[0m\u001b[0;34m[\u001b[0m\u001b[0;34m'Title'\u001b[0m\u001b[0;34m]\u001b[0m\u001b[0;34m)\u001b[0m\u001b[0;34m]\u001b[0m\u001b[0;34m\u001b[0m\u001b[0m\n\u001b[0m",
      "\u001b[0;32m<ipython-input-176-b0f8b070269e>\u001b[0m in \u001b[0;36m<listcomp>\u001b[0;34m(.0)\u001b[0m\n\u001b[1;32m      5\u001b[0m     \u001b[0;32melse\u001b[0m\u001b[0;34m:\u001b[0m \u001b[0;32mreturn\u001b[0m \u001b[0mage\u001b[0m\u001b[0;34m\u001b[0m\u001b[0m\n\u001b[1;32m      6\u001b[0m \u001b[0;34m\u001b[0m\u001b[0m\n\u001b[0;32m----> 7\u001b[0;31m \u001b[0mdf\u001b[0m\u001b[0;34m[\u001b[0m\u001b[0;34m'Age'\u001b[0m\u001b[0;34m]\u001b[0m \u001b[0;34m=\u001b[0m \u001b[0;34m[\u001b[0m\u001b[0mfill_age\u001b[0m\u001b[0;34m(\u001b[0m\u001b[0mage\u001b[0m\u001b[0;34m,\u001b[0m \u001b[0mtitle\u001b[0m\u001b[0;34m)\u001b[0m \u001b[0;32mfor\u001b[0m \u001b[0mage\u001b[0m\u001b[0;34m,\u001b[0m \u001b[0mtitle\u001b[0m \u001b[0;32min\u001b[0m \u001b[0mzip\u001b[0m\u001b[0;34m(\u001b[0m\u001b[0mdf\u001b[0m\u001b[0;34m[\u001b[0m\u001b[0;34m'Age'\u001b[0m\u001b[0;34m]\u001b[0m\u001b[0;34m,\u001b[0m \u001b[0mdf\u001b[0m\u001b[0;34m[\u001b[0m\u001b[0;34m'Title'\u001b[0m\u001b[0;34m]\u001b[0m\u001b[0;34m)\u001b[0m\u001b[0;34m]\u001b[0m\u001b[0;34m\u001b[0m\u001b[0m\n\u001b[0m",
      "\u001b[0;32m<ipython-input-176-b0f8b070269e>\u001b[0m in \u001b[0;36mfill_age\u001b[0;34m(age, Name)\u001b[0m\n\u001b[1;32m      1\u001b[0m \u001b[0;32mdef\u001b[0m \u001b[0mfill_age\u001b[0m\u001b[0;34m(\u001b[0m\u001b[0mage\u001b[0m\u001b[0;34m,\u001b[0m \u001b[0mName\u001b[0m\u001b[0;34m)\u001b[0m\u001b[0;34m:\u001b[0m\u001b[0;34m\u001b[0m\u001b[0m\n\u001b[0;32m----> 2\u001b[0;31m     \u001b[0mtitle\u001b[0m \u001b[0;34m=\u001b[0m \u001b[0mget_title\u001b[0m\u001b[0;34m(\u001b[0m\u001b[0mName\u001b[0m\u001b[0;34m)\u001b[0m\u001b[0;34m\u001b[0m\u001b[0m\n\u001b[0m\u001b[1;32m      3\u001b[0m     \u001b[0mtitle\u001b[0m \u001b[0;34m=\u001b[0m \u001b[0mtransfer_title\u001b[0m\u001b[0;34m(\u001b[0m\u001b[0mtitle\u001b[0m\u001b[0;34m)\u001b[0m\u001b[0;34m\u001b[0m\u001b[0m\n\u001b[1;32m      4\u001b[0m     \u001b[0;32mif\u001b[0m \u001b[0mmath\u001b[0m\u001b[0;34m.\u001b[0m\u001b[0misnan\u001b[0m\u001b[0;34m(\u001b[0m\u001b[0mage\u001b[0m\u001b[0;34m)\u001b[0m\u001b[0;34m:\u001b[0m \u001b[0;32mreturn\u001b[0m \u001b[0mavg_age\u001b[0m\u001b[0;34m[\u001b[0m\u001b[0mtitle\u001b[0m\u001b[0;34m]\u001b[0m\u001b[0;34m\u001b[0m\u001b[0m\n\u001b[1;32m      5\u001b[0m     \u001b[0;32melse\u001b[0m\u001b[0;34m:\u001b[0m \u001b[0;32mreturn\u001b[0m \u001b[0mage\u001b[0m\u001b[0;34m\u001b[0m\u001b[0m\n",
      "\u001b[0;32m<ipython-input-129-05afc7dffa6b>\u001b[0m in \u001b[0;36m<lambda>\u001b[0;34m(x)\u001b[0m\n\u001b[0;32m----> 1\u001b[0;31m \u001b[0mget_title\u001b[0m \u001b[0;34m=\u001b[0m \u001b[0;32mlambda\u001b[0m \u001b[0mx\u001b[0m\u001b[0;34m:\u001b[0m \u001b[0mx\u001b[0m\u001b[0;34m.\u001b[0m\u001b[0msplit\u001b[0m\u001b[0;34m(\u001b[0m\u001b[0;34m', '\u001b[0m\u001b[0;34m)\u001b[0m\u001b[0;34m[\u001b[0m\u001b[0;36m1\u001b[0m\u001b[0;34m]\u001b[0m\u001b[0;34m.\u001b[0m\u001b[0msplit\u001b[0m\u001b[0;34m(\u001b[0m\u001b[0;34m'.'\u001b[0m\u001b[0;34m)\u001b[0m\u001b[0;34m[\u001b[0m\u001b[0;36m0\u001b[0m\u001b[0;34m]\u001b[0m\u001b[0;34m\u001b[0m\u001b[0m\n\u001b[0m\u001b[1;32m      2\u001b[0m \u001b[0mdf\u001b[0m\u001b[0;34m[\u001b[0m\u001b[0;34m'Title'\u001b[0m\u001b[0;34m]\u001b[0m \u001b[0;34m=\u001b[0m \u001b[0mdf\u001b[0m\u001b[0;34m[\u001b[0m\u001b[0;34m'Name'\u001b[0m\u001b[0;34m]\u001b[0m\u001b[0;34m.\u001b[0m\u001b[0mapply\u001b[0m\u001b[0;34m(\u001b[0m\u001b[0mget_title\u001b[0m\u001b[0;34m)\u001b[0m\u001b[0;34m\u001b[0m\u001b[0m\n\u001b[1;32m      3\u001b[0m \u001b[0mpd\u001b[0m\u001b[0;34m.\u001b[0m\u001b[0mcrosstab\u001b[0m\u001b[0;34m(\u001b[0m\u001b[0mdf\u001b[0m\u001b[0;34m.\u001b[0m\u001b[0mSex\u001b[0m\u001b[0;34m,\u001b[0m\u001b[0mdf\u001b[0m\u001b[0;34m.\u001b[0m\u001b[0mTitle\u001b[0m\u001b[0;34m,\u001b[0m\u001b[0mmargins\u001b[0m\u001b[0;34m=\u001b[0m\u001b[0;32mFalse\u001b[0m\u001b[0;34m)\u001b[0m\u001b[0;34m.\u001b[0m\u001b[0mstyle\u001b[0m\u001b[0;34m.\u001b[0m\u001b[0mbackground_gradient\u001b[0m\u001b[0;34m(\u001b[0m\u001b[0mcmap\u001b[0m\u001b[0;34m=\u001b[0m\u001b[0;34m'summer_r'\u001b[0m\u001b[0;34m)\u001b[0m\u001b[0;34m\u001b[0m\u001b[0m\n",
      "\u001b[0;31mIndexError\u001b[0m: list index out of range"
     ]
    }
   ],
   "source": [
    "def fill_age(age, Name):\n",
    "    title = get_title(Name)\n",
    "    title = transfer_title(title)\n",
    "    if math.isnan(age): return avg_age[title]\n",
    "    else: return age\n",
    "\n",
    "df['Age'] = [fill_age(age, title) for age, title in zip(df['Age'], df['Title'])]"
   ]
  },
  {
   "cell_type": "code",
   "execution_count": 177,
   "metadata": {},
   "outputs": [
    {
     "data": {
      "text/plain": [
       "<matplotlib.legend.Legend at 0x11050cb70>"
      ]
     },
     "execution_count": 177,
     "metadata": {},
     "output_type": "execute_result"
    },
    {
     "data": {
      "image/png": "[encoded data removed]",
      "text/plain": [
       "<matplotlib.figure.Figure at 0x1125ffc18>"
      ]
     },
     "metadata": {},
     "output_type": "display_data"
    }
   ],
   "source": [
    "df['Dead'] = (df['Survived'] == 0).astype(int)\n",
    "figure = plt.figure(figsize=(12,8))\n",
    "plt.hist([df[df['Survived']==1]['Age'], df[df['Survived']==0]['Age']],\n",
    "          bins = 30,label = ['Survived','Dead'])\n",
    "\n",
    "plt.xlabel('Age')\n",
    "plt.ylabel('Number of passengers')\n",
    "plt.legend()"
   ]
  },
  {
   "cell_type": "code",
   "execution_count": 178,
   "metadata": {},
   "outputs": [
    {
     "data": {
      "image/png": "[encoded data removed]",
      "text/plain": [
       "<matplotlib.figure.Figure at 0x1125f2d68>"
      ]
     },
     "metadata": {},
     "output_type": "display_data"
    }
   ],
   "source": [
    "f,ax=plt.subplots(1,2,figsize=(18,8))\n",
    "sns.violinplot(\"Pclass\",\"Age\", hue=\"Survived\", data=df,split=True,ax=ax[0])\n",
    "ax[0].set_title('Pclass and Age vs Survived')\n",
    "ax[0].set_yticks(range(0,110,10))\n",
    "sns.violinplot(\"Sex\",\"Age\", hue=\"Survived\", data=df,split=True,ax=ax[1])\n",
    "ax[1].set_title('Sex and Age vs Survived')\n",
    "ax[1].set_yticks(range(0,110,10))\n",
    "plt.show()"
   ]
  },
  {
   "cell_type": "markdown",
   "metadata": {},
   "source": [
    "<br>\n",
    "<b>Fare"
   ]
  },
  {
   "cell_type": "code",
   "execution_count": 179,
   "metadata": {},
   "outputs": [
    {
     "data": {
      "image/png": "[encoded data removed]",
      "text/plain": [
       "<matplotlib.figure.Figure at 0x112294320>"
      ]
     },
     "metadata": {},
     "output_type": "display_data"
    }
   ],
   "source": [
    "df['Dead'] = (df['Survived'] == 0).astype(int)\n",
    "figure = plt.figure(figsize=(12,8))\n",
    "plt.hist([df[df['Survived']==1]['Fare'], df[df['Survived']==0]['Fare']],\n",
    "          bins = 30,label = ['Survived','Dead'])\n",
    "\n",
    "plt.xlabel('Fare')\n",
    "plt.ylabel('Number of passengers')\n",
    "plt.legend()\n",
    "del df['Dead']"
   ]
  },
  {
   "cell_type": "code",
   "execution_count": 180,
   "metadata": {},
   "outputs": [
    {
     "data": {
      "text/html": [
       "<div>\n",
       "<style>\n",
       "    .dataframe thead tr:only-child th {\n",
       "        text-align: right;\n",
       "    }\n",
       "\n",
       "    .dataframe thead th {\n",
       "        text-align: left;\n",
       "    }\n",
       "\n",
       "    .dataframe tbody tr th {\n",
       "        vertical-align: top;\n",
       "    }\n",
       "</style>\n",
       "<table border=\"1\" class=\"dataframe\">\n",
       "  <thead>\n",
       "    <tr style=\"text-align: right;\">\n",
       "      <th></th>\n",
       "      <th>Survived</th>\n",
       "      <th>Pclass</th>\n",
       "      <th>Age</th>\n",
       "      <th>SibSp</th>\n",
       "      <th>Parch</th>\n",
       "      <th>Fare</th>\n",
       "    </tr>\n",
       "  </thead>\n",
       "  <tbody>\n",
       "    <tr>\n",
       "      <th>count</th>\n",
       "      <td>891.000000</td>\n",
       "      <td>891.000000</td>\n",
       "      <td>891.000000</td>\n",
       "      <td>891.000000</td>\n",
       "      <td>891.000000</td>\n",
       "      <td>891.000000</td>\n",
       "    </tr>\n",
       "    <tr>\n",
       "      <th>mean</th>\n",
       "      <td>0.383838</td>\n",
       "      <td>2.308642</td>\n",
       "      <td>29.764424</td>\n",
       "      <td>0.523008</td>\n",
       "      <td>0.381594</td>\n",
       "      <td>32.204208</td>\n",
       "    </tr>\n",
       "    <tr>\n",
       "      <th>std</th>\n",
       "      <td>0.486592</td>\n",
       "      <td>0.836071</td>\n",
       "      <td>13.280913</td>\n",
       "      <td>1.102743</td>\n",
       "      <td>0.806057</td>\n",
       "      <td>49.693429</td>\n",
       "    </tr>\n",
       "    <tr>\n",
       "      <th>min</th>\n",
       "      <td>0.000000</td>\n",
       "      <td>1.000000</td>\n",
       "      <td>0.420000</td>\n",
       "      <td>0.000000</td>\n",
       "      <td>0.000000</td>\n",
       "      <td>0.000000</td>\n",
       "    </tr>\n",
       "    <tr>\n",
       "      <th>25%</th>\n",
       "      <td>0.000000</td>\n",
       "      <td>2.000000</td>\n",
       "      <td>21.860000</td>\n",
       "      <td>0.000000</td>\n",
       "      <td>0.000000</td>\n",
       "      <td>7.910400</td>\n",
       "    </tr>\n",
       "    <tr>\n",
       "      <th>50%</th>\n",
       "      <td>0.000000</td>\n",
       "      <td>3.000000</td>\n",
       "      <td>30.000000</td>\n",
       "      <td>0.000000</td>\n",
       "      <td>0.000000</td>\n",
       "      <td>14.454200</td>\n",
       "    </tr>\n",
       "    <tr>\n",
       "      <th>75%</th>\n",
       "      <td>1.000000</td>\n",
       "      <td>3.000000</td>\n",
       "      <td>35.981818</td>\n",
       "      <td>1.000000</td>\n",
       "      <td>0.000000</td>\n",
       "      <td>31.000000</td>\n",
       "    </tr>\n",
       "    <tr>\n",
       "      <th>max</th>\n",
       "      <td>1.000000</td>\n",
       "      <td>3.000000</td>\n",
       "      <td>80.000000</td>\n",
       "      <td>8.000000</td>\n",
       "      <td>6.000000</td>\n",
       "      <td>512.329200</td>\n",
       "    </tr>\n",
       "  </tbody>\n",
       "</table>\n",
       "</div>"
      ],
      "text/plain": [
       "         Survived      Pclass         Age       SibSp       Parch        Fare\n",
       "count  891.000000  891.000000  891.000000  891.000000  891.000000  891.000000\n",
       "mean     0.383838    2.308642   29.764424    0.523008    0.381594   32.204208\n",
       "std      0.486592    0.836071   13.280913    1.102743    0.806057   49.693429\n",
       "min      0.000000    1.000000    0.420000    0.000000    0.000000    0.000000\n",
       "25%      0.000000    2.000000   21.860000    0.000000    0.000000    7.910400\n",
       "50%      0.000000    3.000000   30.000000    0.000000    0.000000   14.454200\n",
       "75%      1.000000    3.000000   35.981818    1.000000    0.000000   31.000000\n",
       "max      1.000000    3.000000   80.000000    8.000000    6.000000  512.329200"
      ]
     },
     "execution_count": 180,
     "metadata": {},
     "output_type": "execute_result"
    }
   ],
   "source": [
    "def sex_translate(x):\n",
    "    if x == 'male': return 0\n",
    "    else: return 1\n",
    "    \n",
    "df.describe()"
   ]
  },
  {
   "cell_type": "markdown",
   "metadata": {},
   "source": [
    "<br>\n",
    "### Feature Process"
   ]
  },
  {
   "cell_type": "code",
   "execution_count": 181,
   "metadata": {
    "collapsed": true
   },
   "outputs": [],
   "source": [
    "def get_cabin(x):\n",
    "    try:\n",
    "        return 1\n",
    "    except:\n",
    "        return 0\n",
    "    \n",
    "def get_ticket(x):\n",
    "    try:\n",
    "        int(x[0])\n",
    "        return 0\n",
    "    except:\n",
    "        return 1"
   ]
  },
  {
   "cell_type": "code",
   "execution_count": 182,
   "metadata": {
    "collapsed": true
   },
   "outputs": [],
   "source": [
    "def preprocess(df):\n",
    "    df['Sex'] = df['Sex'].apply(sex_translate)\n",
    "    df['Title'] = [int(get_title(x) == 'Mr') for x in df['Name']]\n",
    "    df['Age'] = [fill_age(age, title) for age, title in zip(df['Age'], df['Name'])]\n",
    "    df['Fare'] = df['Fare'].fillna(df['Fare'].mean())\n",
    "    df['Embarked'] = [int(i == 'C') for i in df['Embarked']]\n",
    "    df['Cabin'] = df['Cabin'].apply(get_cabin)\n",
    "    df['Ticket'] = df['Ticket'].apply(get_ticket)\n",
    "    del df['Name']\n",
    "    del df['Cabin']\n",
    "    del df['Ticket']\n",
    "#    del df['Embarked']\n",
    "    return df\n",
    "\n",
    "label_column = 'Survived'\n",
    "explore_feature = ['Pclass', 'Sex', 'Age', 'SibSp', 'Parch', 'Fare', 'Embarked', 'Name', 'Cabin', 'Ticket']"
   ]
  },
  {
   "cell_type": "markdown",
   "metadata": {},
   "source": [
    "<br>\n",
    "### Random Forest Model"
   ]
  },
  {
   "cell_type": "code",
   "execution_count": 183,
   "metadata": {
    "collapsed": true
   },
   "outputs": [],
   "source": [
    "def get_RF_classifier(train_data, train_label, feature=[]):\n",
    "    clf = RandomForestClassifier(max_depth=2, random_state=0)\n",
    "    clf.fit(train_data, train_label)\n",
    "    feature_importance = DataFrame({'score': clf.feature_importances_}, index=feature)\n",
    "    return clf, feature_importance"
   ]
  },
  {
   "cell_type": "code",
   "execution_count": 184,
   "metadata": {
    "collapsed": true
   },
   "outputs": [],
   "source": [
    "def count_acc(X_pred, y):\n",
    "    c = Counter([i==j for i, j in zip(X_pred, y)])\n",
    "    acc = c[1] / sum(c.values())\n",
    "    return acc * 100"
   ]
  },
  {
   "cell_type": "markdown",
   "metadata": {},
   "source": [
    "<br>\n",
    "### K fold cross validation"
   ]
  },
  {
   "cell_type": "code",
   "execution_count": 187,
   "metadata": {},
   "outputs": [
    {
     "name": "stdout",
     "output_type": "stream",
     "text": [
      "KFold(n_splits=20, random_state=None, shuffle=True)\n",
      "train-set accuracy: 80.92\n",
      "dev-set accuracy: 80.79\n",
      "\n",
      "Feature Importance:\n",
      "              score\n",
      "Pclass    0.165541\n",
      "Sex       0.136281\n",
      "Age       0.011834\n",
      "SibSp     0.072035\n",
      "Parch     0.036538\n",
      "Fare      0.033289\n",
      "Embarked  0.002021\n",
      "Title     0.542460 \n",
      "\n"
     ]
    }
   ],
   "source": [
    "FoldNum = 20\n",
    "\n",
    "data = preprocess(df.loc[:, explore_feature])\n",
    "X = data.values\n",
    "y = df['Survived'].values\n",
    "kf = KFold(n_splits=FoldNum, shuffle=True)\n",
    "kf.get_n_splits(X)\n",
    "\n",
    "print(kf)  \n",
    "\n",
    "train_acc = dev_acc = feature_importance = 0\n",
    "\n",
    "for train_index, dev_index in kf.split(X):\n",
    "    \n",
    "    X_train, X_dev = X[train_index], X[dev_index]\n",
    "    y_train, y_dev = y[train_index], y[dev_index]\n",
    "    \n",
    "    clf, _feature_importance = get_RF_classifier(X_train, y_train, data.columns)\n",
    "    \n",
    "    X_train_pred = clf.predict(X_train)\n",
    "    X_dev_pred = clf.predict(X_dev)\n",
    "    \n",
    "    train_acc += count_acc(X_train_pred, y_train)\n",
    "    dev_acc += count_acc(X_dev_pred, y_dev)\n",
    "    feature_importance += _feature_importance\n",
    "\n",
    "print(\"train-set accuracy: %0.2f\" % (train_acc/FoldNum))\n",
    "print(\"dev-set accuracy: %0.2f\\n\" % (dev_acc/FoldNum))\n",
    "print(\"Feature Importance:\\n\", feature_importance/FoldNum, \"\\n\")"
   ]
  },
  {
   "cell_type": "markdown",
   "metadata": {},
   "source": [
    "<br>\n",
    "<b>test-set"
   ]
  },
  {
   "cell_type": "code",
   "execution_count": 186,
   "metadata": {},
   "outputs": [],
   "source": [
    "X_test = preprocess(test.loc[:, explore_feature])\n",
    "test_pred = clf.predict(X_test.as_matrix())\n",
    "result = DataFrame(test_pred, index=test.index, columns=['Survived'])\n",
    "result.to_csv('result.csv')"
   ]
  },
  {
   "cell_type": "code",
   "execution_count": null,
   "metadata": {
    "collapsed": true
   },
   "outputs": [],
   "source": []
  }
 ],
 "metadata": {
  "kernelspec": {
   "display_name": "Python 3",
   "language": "python",
   "name": "python3"
  },
  "language_info": {
   "codemirror_mode": {
    "name": "ipython",
    "version": 3
   },
   "file_extension": ".py",
   "mimetype": "text/x-python",
   "name": "python",
   "nbconvert_exporter": "python",
   "pygments_lexer": "ipython3",
   "version": "3.5.2"
  }
 },
 "nbformat": 4,
 "nbformat_minor": 2
}
